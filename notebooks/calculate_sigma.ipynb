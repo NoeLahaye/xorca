{
 "cells": [
  {
   "cell_type": "markdown",
   "metadata": {},
   "source": [
    "# Calculate sigma in Xarray"
   ]
  },
  {
   "cell_type": "markdown",
   "metadata": {},
   "source": [
    "## Preamble: Import modules, turn off warnings, etc."
   ]
  },
  {
   "cell_type": "code",
   "execution_count": 1,
   "metadata": {},
   "outputs": [],
   "source": [
    "import warnings\n",
    "warnings.filterwarnings(\"ignore\")"
   ]
  },
  {
   "cell_type": "code",
   "execution_count": 2,
   "metadata": {},
   "outputs": [],
   "source": [
    "%matplotlib inline\n",
    "%load_ext memory_profiler\n",
    "from dask.distributed import Client, wait\n",
    "import inspect\n",
    "import numpy as np\n",
    "from pathlib import Path\n",
    "import xarray as xr\n",
    "import pandas as pd\n",
    "import seawater"
   ]
  },
  {
   "cell_type": "code",
   "execution_count": 3,
   "metadata": {},
   "outputs": [],
   "source": [
    "client = Client(scheduler_file=\"../scheduler.json\")"
   ]
  },
  {
   "cell_type": "code",
   "execution_count": 4,
   "metadata": {},
   "outputs": [
    {
     "data": {
      "text/html": [
       "<table style=\"border: 2px solid white;\">\n",
       "<tr>\n",
       "<td style=\"vertical-align: top; border: 0px solid white\">\n",
       "<h3>Client</h3>\n",
       "<ul>\n",
       "  <li><b>Scheduler: </b>tcp://192.168.0.2:8786\n",
       "  <li><b>Dashboard: </b><a href='http://192.168.0.2:8787/status' target='_blank'>http://192.168.0.2:8787/status</a>\n",
       "</ul>\n",
       "</td>\n",
       "<td style=\"vertical-align: top; border: 0px solid white\">\n",
       "<h3>Cluster</h3>\n",
       "<ul>\n",
       "  <li><b>Workers: </b>2</li>\n",
       "  <li><b>Cores: </b>4</li>\n",
       "  <li><b>Memory: </b>16.70 GB</li>\n",
       "</ul>\n",
       "</td>\n",
       "</tr>\n",
       "</table>"
      ],
      "text/plain": [
       "<Client: scheduler='tcp://192.168.0.2:8786' processes=2 cores=4>"
      ]
     },
     "execution_count": 4,
     "metadata": {},
     "output_type": "execute_result"
    }
   ],
   "source": [
    "client.restart()"
   ]
  },
  {
   "cell_type": "markdown",
   "metadata": {},
   "source": [
    "## Load the whole model run into a single grid-aware data set"
   ]
  },
  {
   "cell_type": "code",
   "execution_count": 5,
   "metadata": {},
   "outputs": [],
   "source": [
    "# data_path = Path(\"../example-data/ORCA05.L46-KKG36F25H/\")"
   ]
  },
  {
   "cell_type": "code",
   "execution_count": 6,
   "metadata": {},
   "outputs": [],
   "source": [
    "# data_files = (\n",
    "#     sorted(data_path.glob(\"ORCA05.L46-KKG36F25H_1m_*_grid_?.nc\")) +\n",
    "#     [data_path / \"mesh_mask.nc\",\n",
    "#      data_path / \"new_maskglo.nc\"]\n",
    "# )"
   ]
  },
  {
   "cell_type": "code",
   "execution_count": 7,
   "metadata": {},
   "outputs": [],
   "source": [
    "# list(map(print, data_files));"
   ]
  },
  {
   "cell_type": "code",
   "execution_count": 8,
   "metadata": {},
   "outputs": [],
   "source": [
    "# from xorca.lib import preprocess_orca\n",
    "\n",
    "# ds = xr.open_mfdataset(data_files,\n",
    "#                        preprocess=(lambda ds:\n",
    "#                                    preprocess_orca(data_path / \"mesh_mask.nc\", ds)))\n",
    "# ds = ds.chunk({\"t\": 1, \"z_c\": 23, \"z_l\": 23, \"x_c\": 180, \"x_r\": 180})\n",
    "# ds"
   ]
  },
  {
   "cell_type": "markdown",
   "metadata": {},
   "source": [
    "## And store to the much faster ZARR format"
   ]
  },
  {
   "cell_type": "code",
   "execution_count": 9,
   "metadata": {},
   "outputs": [],
   "source": [
    "# %%time\n",
    "# %memit dsz = ds.to_zarr(store=\"_tmp_ORCA05.L46-KKG36F25H.zarr/\", mode=\"w\");"
   ]
  },
  {
   "cell_type": "code",
   "execution_count": 10,
   "metadata": {},
   "outputs": [],
   "source": [
    "ds = xr.open_zarr(\"_tmp_ORCA05.L46-KKG36F25H.zarr/\")"
   ]
  },
  {
   "cell_type": "code",
   "execution_count": 11,
   "metadata": {},
   "outputs": [
    {
     "data": {
      "text/plain": [
       "<xarray.Dataset>\n",
       "Dimensions:   (t: 24, x_c: 720, x_r: 720, y_c: 509, y_r: 509, z_c: 46, z_l: 46)\n",
       "Coordinates:\n",
       "    depth_c   (z_c) float64 dask.array<shape=(46,), chunksize=(23,)>\n",
       "    depth_l   (z_l) float64 dask.array<shape=(46,), chunksize=(23,)>\n",
       "    llat_cc   (y_c, x_c) float32 dask.array<shape=(509, 720), chunksize=(509, 180)>\n",
       "    llat_cr   (y_c, x_r) float32 dask.array<shape=(509, 720), chunksize=(509, 180)>\n",
       "    llat_rc   (y_r, x_c) float32 dask.array<shape=(509, 720), chunksize=(509, 180)>\n",
       "    llat_rr   (y_r, x_r) float32 dask.array<shape=(509, 720), chunksize=(509, 180)>\n",
       "    llon_cc   (y_c, x_c) float32 dask.array<shape=(509, 720), chunksize=(509, 180)>\n",
       "    llon_cr   (y_c, x_r) float32 dask.array<shape=(509, 720), chunksize=(509, 180)>\n",
       "    llon_rc   (y_r, x_c) float32 dask.array<shape=(509, 720), chunksize=(509, 180)>\n",
       "    llon_rr   (y_r, x_r) float32 dask.array<shape=(509, 720), chunksize=(509, 180)>\n",
       "  * t         (t) datetime64[ns] 2008-01-16T12:00:00 2008-02-15 ...\n",
       "  * x_c       (x_c) int64 1 2 3 4 5 6 7 8 9 10 11 12 13 14 15 16 17 18 19 20 ...\n",
       "  * x_r       (x_r) float64 1.5 2.5 3.5 4.5 5.5 6.5 7.5 8.5 9.5 10.5 11.5 ...\n",
       "  * y_c       (y_c) int64 1 2 3 4 5 6 7 8 9 10 11 12 13 14 15 16 17 18 19 20 ...\n",
       "  * y_r       (y_r) float64 1.5 2.5 3.5 4.5 5.5 6.5 7.5 8.5 9.5 10.5 11.5 ...\n",
       "  * z_c       (z_c) int64 1 2 3 4 5 6 7 8 9 10 11 12 13 14 15 16 17 18 19 20 ...\n",
       "  * z_l       (z_l) float64 0.5 1.5 2.5 3.5 4.5 5.5 6.5 7.5 8.5 9.5 10.5 ...\n",
       "Data variables:\n",
       "    e1t       (y_c, x_c) float64 dask.array<shape=(509, 720), chunksize=(509, 180)>\n",
       "    e1u       (y_c, x_r) float64 dask.array<shape=(509, 720), chunksize=(509, 180)>\n",
       "    e1v       (y_r, x_c) float64 dask.array<shape=(509, 720), chunksize=(509, 180)>\n",
       "    e2t       (y_c, x_c) float64 dask.array<shape=(509, 720), chunksize=(509, 180)>\n",
       "    e2u       (y_c, x_r) float64 dask.array<shape=(509, 720), chunksize=(509, 180)>\n",
       "    e2v       (y_r, x_c) float64 dask.array<shape=(509, 720), chunksize=(509, 180)>\n",
       "    e3t       (z_c, y_c, x_c) float64 dask.array<shape=(46, 509, 720), chunksize=(23, 509, 180)>\n",
       "    e3u       (z_c, y_c, x_r) float64 dask.array<shape=(46, 509, 720), chunksize=(23, 509, 180)>\n",
       "    e3v       (z_c, y_r, x_c) float64 dask.array<shape=(46, 509, 720), chunksize=(23, 509, 180)>\n",
       "    fmask     (z_c, y_r, x_r) int8 dask.array<shape=(46, 509, 720), chunksize=(23, 509, 180)>\n",
       "    fmaskatl  (y_r, x_r) float32 dask.array<shape=(509, 720), chunksize=(509, 180)>\n",
       "    fmaskind  (y_r, x_r) float32 dask.array<shape=(509, 720), chunksize=(509, 180)>\n",
       "    fmaskpac  (y_r, x_r) float32 dask.array<shape=(509, 720), chunksize=(509, 180)>\n",
       "    sobowlin  (t, y_c, x_c) float32 dask.array<shape=(24, 509, 720), chunksize=(1, 509, 180)>\n",
       "    sohefldo  (t, y_c, x_c) float32 dask.array<shape=(24, 509, 720), chunksize=(1, 509, 180)>\n",
       "    sohefldp  (t, y_c, x_c) float32 dask.array<shape=(24, 509, 720), chunksize=(1, 509, 180)>\n",
       "    sometauy  (t, y_r, x_c) float32 dask.array<shape=(24, 509, 720), chunksize=(1, 509, 180)>\n",
       "    somixhgt  (t, y_c, x_c) float32 dask.array<shape=(24, 509, 720), chunksize=(1, 509, 180)>\n",
       "    somxl010  (t, y_c, x_c) float32 dask.array<shape=(24, 509, 720), chunksize=(1, 509, 180)>\n",
       "    sosaline  (t, y_c, x_c) float32 dask.array<shape=(24, 509, 720), chunksize=(1, 509, 180)>\n",
       "    soshfldo  (t, y_c, x_c) float32 dask.array<shape=(24, 509, 720), chunksize=(1, 509, 180)>\n",
       "    sossheig  (t, y_c, x_c) float32 dask.array<shape=(24, 509, 720), chunksize=(1, 509, 180)>\n",
       "    sosstsst  (t, y_c, x_c) float32 dask.array<shape=(24, 509, 720), chunksize=(1, 509, 180)>\n",
       "    sowafldp  (t, y_c, x_c) float32 dask.array<shape=(24, 509, 720), chunksize=(1, 509, 180)>\n",
       "    sowaflup  (t, y_c, x_c) float32 dask.array<shape=(24, 509, 720), chunksize=(1, 509, 180)>\n",
       "    sowindsp  (t, y_c, x_c) float32 dask.array<shape=(24, 509, 720), chunksize=(1, 509, 180)>\n",
       "    sozotaux  (t, y_c, x_r) float32 dask.array<shape=(24, 509, 720), chunksize=(1, 509, 180)>\n",
       "    tmask     (z_c, y_c, x_c) int8 dask.array<shape=(46, 509, 720), chunksize=(23, 509, 180)>\n",
       "    tmaskatl  (y_c, x_c) float32 dask.array<shape=(509, 720), chunksize=(509, 180)>\n",
       "    tmaskind  (y_c, x_c) float32 dask.array<shape=(509, 720), chunksize=(509, 180)>\n",
       "    tmaskpac  (y_c, x_c) float32 dask.array<shape=(509, 720), chunksize=(509, 180)>\n",
       "    umask     (z_c, y_c, x_r) int8 dask.array<shape=(46, 509, 720), chunksize=(23, 509, 180)>\n",
       "    umaskatl  (y_c, x_r) float32 dask.array<shape=(509, 720), chunksize=(509, 180)>\n",
       "    umaskind  (y_c, x_r) float32 dask.array<shape=(509, 720), chunksize=(509, 180)>\n",
       "    umaskpac  (y_c, x_r) float32 dask.array<shape=(509, 720), chunksize=(509, 180)>\n",
       "    vmask     (z_c, y_r, x_c) int8 dask.array<shape=(46, 509, 720), chunksize=(23, 509, 180)>\n",
       "    vmaskatl  (y_r, x_c) float32 dask.array<shape=(509, 720), chunksize=(509, 180)>\n",
       "    vmaskind  (y_r, x_c) float32 dask.array<shape=(509, 720), chunksize=(509, 180)>\n",
       "    vmaskpac  (y_r, x_c) float32 dask.array<shape=(509, 720), chunksize=(509, 180)>\n",
       "    vomecrty  (t, z_c, y_r, x_c) float32 dask.array<shape=(24, 46, 509, 720), chunksize=(1, 23, 509, 180)>\n",
       "    vomeeivv  (t, z_c, y_r, x_c) float32 dask.array<shape=(24, 46, 509, 720), chunksize=(1, 23, 509, 180)>\n",
       "    vosaline  (t, z_c, y_c, x_c) float32 dask.array<shape=(24, 46, 509, 720), chunksize=(1, 23, 509, 180)>\n",
       "    votemper  (t, z_c, y_c, x_c) float32 dask.array<shape=(24, 46, 509, 720), chunksize=(1, 23, 509, 180)>\n",
       "    vozocrtx  (t, z_c, y_c, x_r) float32 dask.array<shape=(24, 46, 509, 720), chunksize=(1, 23, 509, 180)>\n",
       "    vozoeivu  (t, z_c, y_c, x_r) float32 dask.array<shape=(24, 46, 509, 720), chunksize=(1, 23, 509, 180)>"
      ]
     },
     "execution_count": 11,
     "metadata": {},
     "output_type": "execute_result"
    }
   ],
   "source": [
    "ds"
   ]
  },
  {
   "cell_type": "markdown",
   "metadata": {},
   "source": [
    "## Calculate Sigma"
   ]
  },
  {
   "cell_type": "code",
   "execution_count": 12,
   "metadata": {},
   "outputs": [],
   "source": [
    "def sigma_from_z_S_T(z, S, T, pr=0):\n",
    "    p = z\n",
    "    sigma = seawater.eos80.pden(S, T, z, pr=pr) - 1000.0\n",
    "    return sigma"
   ]
  },
  {
   "cell_type": "code",
   "execution_count": 13,
   "metadata": {},
   "outputs": [
    {
     "name": "stdout",
     "output_type": "stream",
     "text": [
      "peak memory: 112.72 MiB, increment: 1.17 MiB\n"
     ]
    }
   ],
   "source": [
    "%%memit\n",
    "z = ds.coords[\"depth_c\"]\n",
    "S = ds.vosaline.where(ds.tmask != 0)\n",
    "T = ds.votemper.where(ds.tmask != 0)"
   ]
  },
  {
   "cell_type": "code",
   "execution_count": 14,
   "metadata": {},
   "outputs": [
    {
     "data": {
      "text/plain": [
       "<xarray.DataArray (z_c: 46, t: 24, y_c: 509, x_c: 720)>\n",
       "dask.array<shape=(46, 24, 509, 720), dtype=float64, chunksize=(23, 1, 509, 180)>\n",
       "Coordinates:\n",
       "    depth_c  (z_c) float64 dask.array<shape=(46,), chunksize=(23,)>\n",
       "  * z_c      (z_c) int64 1 2 3 4 5 6 7 8 9 10 11 12 13 14 15 16 17 18 19 20 ...\n",
       "    llat_cc  (y_c, x_c) float32 dask.array<shape=(509, 720), chunksize=(509, 180)>\n",
       "    llon_cc  (y_c, x_c) float32 dask.array<shape=(509, 720), chunksize=(509, 180)>\n",
       "  * t        (t) datetime64[ns] 2008-01-16T12:00:00 2008-02-15 ...\n",
       "  * x_c      (x_c) int64 1 2 3 4 5 6 7 8 9 10 11 12 13 14 15 16 17 18 19 20 ...\n",
       "  * y_c      (y_c) int64 1 2 3 4 5 6 7 8 9 10 11 12 13 14 15 16 17 18 19 20 ..."
      ]
     },
     "metadata": {},
     "output_type": "display_data"
    },
    {
     "name": "stdout",
     "output_type": "stream",
     "text": [
      "peak memory: 113.24 MiB, increment: 0.36 MiB\n"
     ]
    }
   ],
   "source": [
    "%%memit\n",
    "sigma0 = xr.apply_ufunc(\n",
    "    lambda z, S, T: sigma_from_z_S_T(z, S, T, pr=0),\n",
    "    z, S, T,\n",
    "    dask='parallelized', output_dtypes=[float, ])\n",
    "display(sigma0)"
   ]
  },
  {
   "cell_type": "code",
   "execution_count": 15,
   "metadata": {},
   "outputs": [
    {
     "data": {
      "text/plain": [
       "<xarray.DataArray (z_c: 46, t: 24, y_c: 509, x_c: 720)>\n",
       "dask.array<shape=(46, 24, 509, 720), dtype=float64, chunksize=(23, 1, 509, 180)>\n",
       "Coordinates:\n",
       "    depth_c  (z_c) float64 dask.array<shape=(46,), chunksize=(23,)>\n",
       "  * z_c      (z_c) int64 1 2 3 4 5 6 7 8 9 10 11 12 13 14 15 16 17 18 19 20 ...\n",
       "    llat_cc  (y_c, x_c) float32 dask.array<shape=(509, 720), chunksize=(509, 180)>\n",
       "    llon_cc  (y_c, x_c) float32 dask.array<shape=(509, 720), chunksize=(509, 180)>\n",
       "  * t        (t) datetime64[ns] 2008-01-16T12:00:00 2008-02-15 ...\n",
       "  * x_c      (x_c) int64 1 2 3 4 5 6 7 8 9 10 11 12 13 14 15 16 17 18 19 20 ...\n",
       "  * y_c      (y_c) int64 1 2 3 4 5 6 7 8 9 10 11 12 13 14 15 16 17 18 19 20 ..."
      ]
     },
     "metadata": {},
     "output_type": "display_data"
    },
    {
     "name": "stdout",
     "output_type": "stream",
     "text": [
      "peak memory: 113.54 MiB, increment: 0.30 MiB\n"
     ]
    }
   ],
   "source": [
    "%%memit\n",
    "sigma2 = xr.apply_ufunc(\n",
    "    lambda z, S, T: sigma_from_z_S_T(z, S, T, pr=2000),\n",
    "    z, S, T,\n",
    "    dask='parallelized', output_dtypes=[float, ])\n",
    "display(sigma2)"
   ]
  },
  {
   "cell_type": "code",
   "execution_count": 16,
   "metadata": {},
   "outputs": [],
   "source": [
    "# %%time\n",
    "# %memit ds0 = sigma0.to_dataset(name=\"sigma0\").to_zarr(store=\"sigma0.zarr\", mode=\"w\")\n",
    "# sigma0 = xr.open_zarr(\"sigma0.zarr\").sigma0 "
   ]
  },
  {
   "cell_type": "code",
   "execution_count": 17,
   "metadata": {},
   "outputs": [],
   "source": [
    "# %%time\n",
    "# %memit ds2 = sigma2.to_dataset(name=\"sigma2\").to_zarr(store=\"sigma2.zarr\", mode=\"w\")\n",
    "# sigma2= xr.open_zarr(\"sigma2.zarr\").sigma2"
   ]
  },
  {
   "cell_type": "code",
   "execution_count": 18,
   "metadata": {},
   "outputs": [],
   "source": [
    "# %%time\n",
    "# %memit h = sigma0.mean(dim=[\"x_c\", \"t\"]).compute().plot.contourf(\"y_c\", \"depth_c\", levels=np.linspace(21.0, 29, 17));"
   ]
  },
  {
   "cell_type": "code",
   "execution_count": 19,
   "metadata": {},
   "outputs": [],
   "source": [
    "# %%time\n",
    "# %memit h = sigma2.mean(dim=[\"x_c\", \"t\"]).compute().plot.contourf(\"y_c\", \"depth_c\", levels=np.linspace(28.5, 37.5, 19));"
   ]
  },
  {
   "cell_type": "markdown",
   "metadata": {},
   "source": [
    "## Now, group by sigma"
   ]
  },
  {
   "cell_type": "code",
   "execution_count": 20,
   "metadata": {},
   "outputs": [],
   "source": [
    "ds[\"sigma0\"] = sigma0\n",
    "ds[\"sigma2\"] = sigma2"
   ]
  },
  {
   "cell_type": "code",
   "execution_count": 21,
   "metadata": {},
   "outputs": [
    {
     "data": {
      "text/plain": [
       "<xarray.Dataset>\n",
       "Dimensions:   (t: 24, x_c: 720, x_r: 720, y_c: 509, y_r: 509, z_c: 46, z_l: 46)\n",
       "Coordinates:\n",
       "    depth_c   (z_c) float64 dask.array<shape=(46,), chunksize=(23,)>\n",
       "    depth_l   (z_l) float64 dask.array<shape=(46,), chunksize=(23,)>\n",
       "    llat_cc   (y_c, x_c) float32 dask.array<shape=(509, 720), chunksize=(509, 180)>\n",
       "    llat_cr   (y_c, x_r) float32 dask.array<shape=(509, 720), chunksize=(509, 180)>\n",
       "    llat_rc   (y_r, x_c) float32 dask.array<shape=(509, 720), chunksize=(509, 180)>\n",
       "    llat_rr   (y_r, x_r) float32 dask.array<shape=(509, 720), chunksize=(509, 180)>\n",
       "    llon_cc   (y_c, x_c) float32 dask.array<shape=(509, 720), chunksize=(509, 180)>\n",
       "    llon_cr   (y_c, x_r) float32 dask.array<shape=(509, 720), chunksize=(509, 180)>\n",
       "    llon_rc   (y_r, x_c) float32 dask.array<shape=(509, 720), chunksize=(509, 180)>\n",
       "    llon_rr   (y_r, x_r) float32 dask.array<shape=(509, 720), chunksize=(509, 180)>\n",
       "  * t         (t) datetime64[ns] 2008-01-16T12:00:00 2008-02-15 ...\n",
       "  * x_c       (x_c) int64 1 2 3 4 5 6 7 8 9 10 11 12 13 14 15 16 17 18 19 20 ...\n",
       "  * x_r       (x_r) float64 1.5 2.5 3.5 4.5 5.5 6.5 7.5 8.5 9.5 10.5 11.5 ...\n",
       "  * y_c       (y_c) int64 1 2 3 4 5 6 7 8 9 10 11 12 13 14 15 16 17 18 19 20 ...\n",
       "  * y_r       (y_r) float64 1.5 2.5 3.5 4.5 5.5 6.5 7.5 8.5 9.5 10.5 11.5 ...\n",
       "  * z_c       (z_c) int64 1 2 3 4 5 6 7 8 9 10 11 12 13 14 15 16 17 18 19 20 ...\n",
       "  * z_l       (z_l) float64 0.5 1.5 2.5 3.5 4.5 5.5 6.5 7.5 8.5 9.5 10.5 ...\n",
       "Data variables:\n",
       "    e1t       (y_c, x_c) float64 dask.array<shape=(509, 720), chunksize=(509, 180)>\n",
       "    e1u       (y_c, x_r) float64 dask.array<shape=(509, 720), chunksize=(509, 180)>\n",
       "    e1v       (y_r, x_c) float64 dask.array<shape=(509, 720), chunksize=(509, 180)>\n",
       "    e2t       (y_c, x_c) float64 dask.array<shape=(509, 720), chunksize=(509, 180)>\n",
       "    e2u       (y_c, x_r) float64 dask.array<shape=(509, 720), chunksize=(509, 180)>\n",
       "    e2v       (y_r, x_c) float64 dask.array<shape=(509, 720), chunksize=(509, 180)>\n",
       "    e3t       (z_c, y_c, x_c) float64 dask.array<shape=(46, 509, 720), chunksize=(23, 509, 180)>\n",
       "    e3u       (z_c, y_c, x_r) float64 dask.array<shape=(46, 509, 720), chunksize=(23, 509, 180)>\n",
       "    e3v       (z_c, y_r, x_c) float64 dask.array<shape=(46, 509, 720), chunksize=(23, 509, 180)>\n",
       "    fmask     (z_c, y_r, x_r) int8 dask.array<shape=(46, 509, 720), chunksize=(23, 509, 180)>\n",
       "    fmaskatl  (y_r, x_r) float32 dask.array<shape=(509, 720), chunksize=(509, 180)>\n",
       "    fmaskind  (y_r, x_r) float32 dask.array<shape=(509, 720), chunksize=(509, 180)>\n",
       "    fmaskpac  (y_r, x_r) float32 dask.array<shape=(509, 720), chunksize=(509, 180)>\n",
       "    sobowlin  (t, y_c, x_c) float32 dask.array<shape=(24, 509, 720), chunksize=(1, 509, 180)>\n",
       "    sohefldo  (t, y_c, x_c) float32 dask.array<shape=(24, 509, 720), chunksize=(1, 509, 180)>\n",
       "    sohefldp  (t, y_c, x_c) float32 dask.array<shape=(24, 509, 720), chunksize=(1, 509, 180)>\n",
       "    sometauy  (t, y_r, x_c) float32 dask.array<shape=(24, 509, 720), chunksize=(1, 509, 180)>\n",
       "    somixhgt  (t, y_c, x_c) float32 dask.array<shape=(24, 509, 720), chunksize=(1, 509, 180)>\n",
       "    somxl010  (t, y_c, x_c) float32 dask.array<shape=(24, 509, 720), chunksize=(1, 509, 180)>\n",
       "    sosaline  (t, y_c, x_c) float32 dask.array<shape=(24, 509, 720), chunksize=(1, 509, 180)>\n",
       "    soshfldo  (t, y_c, x_c) float32 dask.array<shape=(24, 509, 720), chunksize=(1, 509, 180)>\n",
       "    sossheig  (t, y_c, x_c) float32 dask.array<shape=(24, 509, 720), chunksize=(1, 509, 180)>\n",
       "    sosstsst  (t, y_c, x_c) float32 dask.array<shape=(24, 509, 720), chunksize=(1, 509, 180)>\n",
       "    sowafldp  (t, y_c, x_c) float32 dask.array<shape=(24, 509, 720), chunksize=(1, 509, 180)>\n",
       "    sowaflup  (t, y_c, x_c) float32 dask.array<shape=(24, 509, 720), chunksize=(1, 509, 180)>\n",
       "    sowindsp  (t, y_c, x_c) float32 dask.array<shape=(24, 509, 720), chunksize=(1, 509, 180)>\n",
       "    sozotaux  (t, y_c, x_r) float32 dask.array<shape=(24, 509, 720), chunksize=(1, 509, 180)>\n",
       "    tmask     (z_c, y_c, x_c) int8 dask.array<shape=(46, 509, 720), chunksize=(23, 509, 180)>\n",
       "    tmaskatl  (y_c, x_c) float32 dask.array<shape=(509, 720), chunksize=(509, 180)>\n",
       "    tmaskind  (y_c, x_c) float32 dask.array<shape=(509, 720), chunksize=(509, 180)>\n",
       "    tmaskpac  (y_c, x_c) float32 dask.array<shape=(509, 720), chunksize=(509, 180)>\n",
       "    umask     (z_c, y_c, x_r) int8 dask.array<shape=(46, 509, 720), chunksize=(23, 509, 180)>\n",
       "    umaskatl  (y_c, x_r) float32 dask.array<shape=(509, 720), chunksize=(509, 180)>\n",
       "    umaskind  (y_c, x_r) float32 dask.array<shape=(509, 720), chunksize=(509, 180)>\n",
       "    umaskpac  (y_c, x_r) float32 dask.array<shape=(509, 720), chunksize=(509, 180)>\n",
       "    vmask     (z_c, y_r, x_c) int8 dask.array<shape=(46, 509, 720), chunksize=(23, 509, 180)>\n",
       "    vmaskatl  (y_r, x_c) float32 dask.array<shape=(509, 720), chunksize=(509, 180)>\n",
       "    vmaskind  (y_r, x_c) float32 dask.array<shape=(509, 720), chunksize=(509, 180)>\n",
       "    vmaskpac  (y_r, x_c) float32 dask.array<shape=(509, 720), chunksize=(509, 180)>\n",
       "    vomecrty  (t, z_c, y_r, x_c) float32 dask.array<shape=(24, 46, 509, 720), chunksize=(1, 23, 509, 180)>\n",
       "    vomeeivv  (t, z_c, y_r, x_c) float32 dask.array<shape=(24, 46, 509, 720), chunksize=(1, 23, 509, 180)>\n",
       "    vosaline  (t, z_c, y_c, x_c) float32 dask.array<shape=(24, 46, 509, 720), chunksize=(1, 23, 509, 180)>\n",
       "    votemper  (t, z_c, y_c, x_c) float32 dask.array<shape=(24, 46, 509, 720), chunksize=(1, 23, 509, 180)>\n",
       "    vozocrtx  (t, z_c, y_c, x_r) float32 dask.array<shape=(24, 46, 509, 720), chunksize=(1, 23, 509, 180)>\n",
       "    vozoeivu  (t, z_c, y_c, x_r) float32 dask.array<shape=(24, 46, 509, 720), chunksize=(1, 23, 509, 180)>\n",
       "    sigma0    (z_c, t, y_c, x_c) float64 dask.array<shape=(46, 24, 509, 720), chunksize=(23, 1, 509, 180)>\n",
       "    sigma2    (z_c, t, y_c, x_c) float64 dask.array<shape=(46, 24, 509, 720), chunksize=(23, 1, 509, 180)>"
      ]
     },
     "execution_count": 21,
     "metadata": {},
     "output_type": "execute_result"
    }
   ],
   "source": [
    "ds"
   ]
  },
  {
   "cell_type": "code",
   "execution_count": 23,
   "metadata": {},
   "outputs": [
    {
     "name": "stderr",
     "output_type": "stream",
     "text": [
      "distributed.client - WARNING - Couldn't gather keys {\"('zarr-5c5cb87172fd13718edbf9dd545296e1', 0)\": [], \"('zarr-5c5cb87172fd13718edbf9dd545296e1', 1)\": []}\n"
     ]
    },
    {
     "ename": "IndexError",
     "evalue": "index 7794906 is out of bounds for axis 1 with size 7638063",
     "output_type": "error",
     "traceback": [
      "\u001b[0;31m---------------------------------------------------------------------------\u001b[0m",
      "\u001b[0;31mIndexError\u001b[0m                                Traceback (most recent call last)",
      "\u001b[0;32m<ipython-input-23-ec4beeebfbe4>\u001b[0m in \u001b[0;36m<module>\u001b[0;34m()\u001b[0m\n\u001b[0;32m----> 1\u001b[0;31m \u001b[0mget_ipython\u001b[0m\u001b[0;34m(\u001b[0m\u001b[0;34m)\u001b[0m\u001b[0;34m.\u001b[0m\u001b[0mrun_cell_magic\u001b[0m\u001b[0;34m(\u001b[0m\u001b[0;34m'memit'\u001b[0m\u001b[0;34m,\u001b[0m \u001b[0;34m''\u001b[0m\u001b[0;34m,\u001b[0m \u001b[0;34m'temp_t_sigma2_y = ds.groupby(\"t\").apply(\\n    lambda d: d.groupby_bins(\"sigma2\", np.linspace(25, 40, 31)).apply(\\n        lambda x: x\\n    )\\n).votemper\\ntemp_t_sigma2_y'\u001b[0m\u001b[0;34m)\u001b[0m\u001b[0;34m\u001b[0m\u001b[0m\n\u001b[0m",
      "\u001b[0;32m~/miniconda3_20171008/envs/py3_std_3.6/lib/python3.6/site-packages/IPython/core/interactiveshell.py\u001b[0m in \u001b[0;36mrun_cell_magic\u001b[0;34m(self, magic_name, line, cell)\u001b[0m\n\u001b[1;32m   2129\u001b[0m             \u001b[0mmagic_arg_s\u001b[0m \u001b[0;34m=\u001b[0m \u001b[0mself\u001b[0m\u001b[0;34m.\u001b[0m\u001b[0mvar_expand\u001b[0m\u001b[0;34m(\u001b[0m\u001b[0mline\u001b[0m\u001b[0;34m,\u001b[0m \u001b[0mstack_depth\u001b[0m\u001b[0;34m)\u001b[0m\u001b[0;34m\u001b[0m\u001b[0m\n\u001b[1;32m   2130\u001b[0m             \u001b[0;32mwith\u001b[0m \u001b[0mself\u001b[0m\u001b[0;34m.\u001b[0m\u001b[0mbuiltin_trap\u001b[0m\u001b[0;34m:\u001b[0m\u001b[0;34m\u001b[0m\u001b[0m\n\u001b[0;32m-> 2131\u001b[0;31m                 \u001b[0mresult\u001b[0m \u001b[0;34m=\u001b[0m \u001b[0mfn\u001b[0m\u001b[0;34m(\u001b[0m\u001b[0mmagic_arg_s\u001b[0m\u001b[0;34m,\u001b[0m \u001b[0mcell\u001b[0m\u001b[0;34m)\u001b[0m\u001b[0;34m\u001b[0m\u001b[0m\n\u001b[0m\u001b[1;32m   2132\u001b[0m             \u001b[0;32mreturn\u001b[0m \u001b[0mresult\u001b[0m\u001b[0;34m\u001b[0m\u001b[0m\n\u001b[1;32m   2133\u001b[0m \u001b[0;34m\u001b[0m\u001b[0m\n",
      "\u001b[0;32m<decorator-gen-126>\u001b[0m in \u001b[0;36mmemit\u001b[0;34m(self, line, cell)\u001b[0m\n",
      "\u001b[0;32m~/miniconda3_20171008/envs/py3_std_3.6/lib/python3.6/site-packages/IPython/core/magic.py\u001b[0m in \u001b[0;36m<lambda>\u001b[0;34m(f, *a, **k)\u001b[0m\n\u001b[1;32m    185\u001b[0m     \u001b[0;31m# but it's overkill for just that one bit of state.\u001b[0m\u001b[0;34m\u001b[0m\u001b[0;34m\u001b[0m\u001b[0m\n\u001b[1;32m    186\u001b[0m     \u001b[0;32mdef\u001b[0m \u001b[0mmagic_deco\u001b[0m\u001b[0;34m(\u001b[0m\u001b[0marg\u001b[0m\u001b[0;34m)\u001b[0m\u001b[0;34m:\u001b[0m\u001b[0;34m\u001b[0m\u001b[0m\n\u001b[0;32m--> 187\u001b[0;31m         \u001b[0mcall\u001b[0m \u001b[0;34m=\u001b[0m \u001b[0;32mlambda\u001b[0m \u001b[0mf\u001b[0m\u001b[0;34m,\u001b[0m \u001b[0;34m*\u001b[0m\u001b[0ma\u001b[0m\u001b[0;34m,\u001b[0m \u001b[0;34m**\u001b[0m\u001b[0mk\u001b[0m\u001b[0;34m:\u001b[0m \u001b[0mf\u001b[0m\u001b[0;34m(\u001b[0m\u001b[0;34m*\u001b[0m\u001b[0ma\u001b[0m\u001b[0;34m,\u001b[0m \u001b[0;34m**\u001b[0m\u001b[0mk\u001b[0m\u001b[0;34m)\u001b[0m\u001b[0;34m\u001b[0m\u001b[0m\n\u001b[0m\u001b[1;32m    188\u001b[0m \u001b[0;34m\u001b[0m\u001b[0m\n\u001b[1;32m    189\u001b[0m         \u001b[0;32mif\u001b[0m \u001b[0mcallable\u001b[0m\u001b[0;34m(\u001b[0m\u001b[0marg\u001b[0m\u001b[0;34m)\u001b[0m\u001b[0;34m:\u001b[0m\u001b[0;34m\u001b[0m\u001b[0m\n",
      "\u001b[0;32m~/miniconda3_20171008/envs/py3_std_3.6/lib/python3.6/site-packages/memory_profiler.py\u001b[0m in \u001b[0;36mmemit\u001b[0;34m(self, line, cell)\u001b[0m\n\u001b[1;32m   1012\u001b[0m                                \u001b[0mtimeout\u001b[0m\u001b[0;34m=\u001b[0m\u001b[0mtimeout\u001b[0m\u001b[0;34m,\u001b[0m \u001b[0minterval\u001b[0m\u001b[0;34m=\u001b[0m\u001b[0minterval\u001b[0m\u001b[0;34m,\u001b[0m\u001b[0;34m\u001b[0m\u001b[0m\n\u001b[1;32m   1013\u001b[0m                                \u001b[0mmax_usage\u001b[0m\u001b[0;34m=\u001b[0m\u001b[0;32mTrue\u001b[0m\u001b[0;34m,\u001b[0m\u001b[0;34m\u001b[0m\u001b[0m\n\u001b[0;32m-> 1014\u001b[0;31m                                include_children=include_children)\n\u001b[0m\u001b[1;32m   1015\u001b[0m             \u001b[0mmem_usage\u001b[0m\u001b[0;34m.\u001b[0m\u001b[0mappend\u001b[0m\u001b[0;34m(\u001b[0m\u001b[0mtmp\u001b[0m\u001b[0;34m[\u001b[0m\u001b[0;36m0\u001b[0m\u001b[0;34m]\u001b[0m\u001b[0;34m)\u001b[0m\u001b[0;34m\u001b[0m\u001b[0m\n\u001b[1;32m   1016\u001b[0m \u001b[0;34m\u001b[0m\u001b[0m\n",
      "\u001b[0;32m~/miniconda3_20171008/envs/py3_std_3.6/lib/python3.6/site-packages/memory_profiler.py\u001b[0m in \u001b[0;36mmemory_usage\u001b[0;34m(proc, interval, timeout, timestamps, include_children, multiprocess, max_usage, retval, stream, backend)\u001b[0m\n\u001b[1;32m    331\u001b[0m             \u001b[0;31m# Therefore, the whole process hangs indefinitely. Here, we are ensuring that the process gets killed!\u001b[0m\u001b[0;34m\u001b[0m\u001b[0;34m\u001b[0m\u001b[0m\n\u001b[1;32m    332\u001b[0m             \u001b[0;32mtry\u001b[0m\u001b[0;34m:\u001b[0m\u001b[0;34m\u001b[0m\u001b[0m\n\u001b[0;32m--> 333\u001b[0;31m                 \u001b[0mreturned\u001b[0m \u001b[0;34m=\u001b[0m \u001b[0mf\u001b[0m\u001b[0;34m(\u001b[0m\u001b[0;34m*\u001b[0m\u001b[0margs\u001b[0m\u001b[0;34m,\u001b[0m \u001b[0;34m**\u001b[0m\u001b[0mkw\u001b[0m\u001b[0;34m)\u001b[0m\u001b[0;34m\u001b[0m\u001b[0m\n\u001b[0m\u001b[1;32m    334\u001b[0m                 \u001b[0mparent_conn\u001b[0m\u001b[0;34m.\u001b[0m\u001b[0msend\u001b[0m\u001b[0;34m(\u001b[0m\u001b[0;36m0\u001b[0m\u001b[0;34m)\u001b[0m  \u001b[0;31m# finish timing\u001b[0m\u001b[0;34m\u001b[0m\u001b[0m\n\u001b[1;32m    335\u001b[0m                 \u001b[0mret\u001b[0m \u001b[0;34m=\u001b[0m \u001b[0mparent_conn\u001b[0m\u001b[0;34m.\u001b[0m\u001b[0mrecv\u001b[0m\u001b[0;34m(\u001b[0m\u001b[0;34m)\u001b[0m\u001b[0;34m\u001b[0m\u001b[0m\n",
      "\u001b[0;32m~/miniconda3_20171008/envs/py3_std_3.6/lib/python3.6/site-packages/memory_profiler.py\u001b[0m in \u001b[0;36m_func_exec\u001b[0;34m(stmt, ns)\u001b[0m\n\u001b[1;32m    785\u001b[0m     \u001b[0;31m# helper for magic_memit, just a function proxy for the exec\u001b[0m\u001b[0;34m\u001b[0m\u001b[0;34m\u001b[0m\u001b[0m\n\u001b[1;32m    786\u001b[0m     \u001b[0;31m# statement\u001b[0m\u001b[0;34m\u001b[0m\u001b[0;34m\u001b[0m\u001b[0m\n\u001b[0;32m--> 787\u001b[0;31m     \u001b[0mexec\u001b[0m\u001b[0;34m(\u001b[0m\u001b[0mstmt\u001b[0m\u001b[0;34m,\u001b[0m \u001b[0mns\u001b[0m\u001b[0;34m)\u001b[0m\u001b[0;34m\u001b[0m\u001b[0m\n\u001b[0m\u001b[1;32m    788\u001b[0m \u001b[0;34m\u001b[0m\u001b[0m\n\u001b[1;32m    789\u001b[0m \u001b[0;34m\u001b[0m\u001b[0m\n",
      "\u001b[0;32m<string>\u001b[0m in \u001b[0;36m<module>\u001b[0;34m()\u001b[0m\n",
      "\u001b[0;32m~/miniconda3_20171008/envs/py3_std_3.6/lib/python3.6/site-packages/xarray/core/groupby.py\u001b[0m in \u001b[0;36mapply\u001b[0;34m(self, func, **kwargs)\u001b[0m\n\u001b[1;32m    611\u001b[0m         \u001b[0mkwargs\u001b[0m\u001b[0;34m.\u001b[0m\u001b[0mpop\u001b[0m\u001b[0;34m(\u001b[0m\u001b[0;34m'shortcut'\u001b[0m\u001b[0;34m,\u001b[0m \u001b[0;32mNone\u001b[0m\u001b[0;34m)\u001b[0m  \u001b[0;31m# ignore shortcut if set (for now)\u001b[0m\u001b[0;34m\u001b[0m\u001b[0m\n\u001b[1;32m    612\u001b[0m         \u001b[0mapplied\u001b[0m \u001b[0;34m=\u001b[0m \u001b[0;34m(\u001b[0m\u001b[0mfunc\u001b[0m\u001b[0;34m(\u001b[0m\u001b[0mds\u001b[0m\u001b[0;34m,\u001b[0m \u001b[0;34m**\u001b[0m\u001b[0mkwargs\u001b[0m\u001b[0;34m)\u001b[0m \u001b[0;32mfor\u001b[0m \u001b[0mds\u001b[0m \u001b[0;32min\u001b[0m \u001b[0mself\u001b[0m\u001b[0;34m.\u001b[0m\u001b[0m_iter_grouped\u001b[0m\u001b[0;34m(\u001b[0m\u001b[0;34m)\u001b[0m\u001b[0;34m)\u001b[0m\u001b[0;34m\u001b[0m\u001b[0m\n\u001b[0;32m--> 613\u001b[0;31m         \u001b[0;32mreturn\u001b[0m \u001b[0mself\u001b[0m\u001b[0;34m.\u001b[0m\u001b[0m_combine\u001b[0m\u001b[0;34m(\u001b[0m\u001b[0mapplied\u001b[0m\u001b[0;34m)\u001b[0m\u001b[0;34m\u001b[0m\u001b[0m\n\u001b[0m\u001b[1;32m    614\u001b[0m \u001b[0;34m\u001b[0m\u001b[0m\n\u001b[1;32m    615\u001b[0m     \u001b[0;32mdef\u001b[0m \u001b[0m_combine\u001b[0m\u001b[0;34m(\u001b[0m\u001b[0mself\u001b[0m\u001b[0;34m,\u001b[0m \u001b[0mapplied\u001b[0m\u001b[0;34m)\u001b[0m\u001b[0;34m:\u001b[0m\u001b[0;34m\u001b[0m\u001b[0m\n",
      "\u001b[0;32m~/miniconda3_20171008/envs/py3_std_3.6/lib/python3.6/site-packages/xarray/core/groupby.py\u001b[0m in \u001b[0;36m_combine\u001b[0;34m(self, applied)\u001b[0m\n\u001b[1;32m    615\u001b[0m     \u001b[0;32mdef\u001b[0m \u001b[0m_combine\u001b[0m\u001b[0;34m(\u001b[0m\u001b[0mself\u001b[0m\u001b[0;34m,\u001b[0m \u001b[0mapplied\u001b[0m\u001b[0;34m)\u001b[0m\u001b[0;34m:\u001b[0m\u001b[0;34m\u001b[0m\u001b[0m\n\u001b[1;32m    616\u001b[0m         \u001b[0;34m\"\"\"Recombine the applied objects like the original.\"\"\"\u001b[0m\u001b[0;34m\u001b[0m\u001b[0m\n\u001b[0;32m--> 617\u001b[0;31m         \u001b[0mapplied_example\u001b[0m\u001b[0;34m,\u001b[0m \u001b[0mapplied\u001b[0m \u001b[0;34m=\u001b[0m \u001b[0mpeek_at\u001b[0m\u001b[0;34m(\u001b[0m\u001b[0mapplied\u001b[0m\u001b[0;34m)\u001b[0m\u001b[0;34m\u001b[0m\u001b[0m\n\u001b[0m\u001b[1;32m    618\u001b[0m         \u001b[0mcoord\u001b[0m\u001b[0;34m,\u001b[0m \u001b[0mdim\u001b[0m\u001b[0;34m,\u001b[0m \u001b[0mpositions\u001b[0m \u001b[0;34m=\u001b[0m \u001b[0mself\u001b[0m\u001b[0;34m.\u001b[0m\u001b[0m_infer_concat_args\u001b[0m\u001b[0;34m(\u001b[0m\u001b[0mapplied_example\u001b[0m\u001b[0;34m)\u001b[0m\u001b[0;34m\u001b[0m\u001b[0m\n\u001b[1;32m    619\u001b[0m         \u001b[0mcombined\u001b[0m \u001b[0;34m=\u001b[0m \u001b[0mconcat\u001b[0m\u001b[0;34m(\u001b[0m\u001b[0mapplied\u001b[0m\u001b[0;34m,\u001b[0m \u001b[0mdim\u001b[0m\u001b[0;34m)\u001b[0m\u001b[0;34m\u001b[0m\u001b[0m\n",
      "\u001b[0;32m~/miniconda3_20171008/envs/py3_std_3.6/lib/python3.6/site-packages/xarray/core/utils.py\u001b[0m in \u001b[0;36mpeek_at\u001b[0;34m(iterable)\u001b[0m\n\u001b[1;32m    114\u001b[0m     \"\"\"\n\u001b[1;32m    115\u001b[0m     \u001b[0mgen\u001b[0m \u001b[0;34m=\u001b[0m \u001b[0miter\u001b[0m\u001b[0;34m(\u001b[0m\u001b[0miterable\u001b[0m\u001b[0;34m)\u001b[0m\u001b[0;34m\u001b[0m\u001b[0m\n\u001b[0;32m--> 116\u001b[0;31m     \u001b[0mpeek\u001b[0m \u001b[0;34m=\u001b[0m \u001b[0mnext\u001b[0m\u001b[0;34m(\u001b[0m\u001b[0mgen\u001b[0m\u001b[0;34m)\u001b[0m\u001b[0;34m\u001b[0m\u001b[0m\n\u001b[0m\u001b[1;32m    117\u001b[0m     \u001b[0;32mreturn\u001b[0m \u001b[0mpeek\u001b[0m\u001b[0;34m,\u001b[0m \u001b[0mitertools\u001b[0m\u001b[0;34m.\u001b[0m\u001b[0mchain\u001b[0m\u001b[0;34m(\u001b[0m\u001b[0;34m[\u001b[0m\u001b[0mpeek\u001b[0m\u001b[0;34m]\u001b[0m\u001b[0;34m,\u001b[0m \u001b[0mgen\u001b[0m\u001b[0;34m)\u001b[0m\u001b[0;34m\u001b[0m\u001b[0m\n\u001b[1;32m    118\u001b[0m \u001b[0;34m\u001b[0m\u001b[0m\n",
      "\u001b[0;32m~/miniconda3_20171008/envs/py3_std_3.6/lib/python3.6/site-packages/xarray/core/groupby.py\u001b[0m in \u001b[0;36m<genexpr>\u001b[0;34m(.0)\u001b[0m\n\u001b[1;32m    610\u001b[0m         \"\"\"\n\u001b[1;32m    611\u001b[0m         \u001b[0mkwargs\u001b[0m\u001b[0;34m.\u001b[0m\u001b[0mpop\u001b[0m\u001b[0;34m(\u001b[0m\u001b[0;34m'shortcut'\u001b[0m\u001b[0;34m,\u001b[0m \u001b[0;32mNone\u001b[0m\u001b[0;34m)\u001b[0m  \u001b[0;31m# ignore shortcut if set (for now)\u001b[0m\u001b[0;34m\u001b[0m\u001b[0m\n\u001b[0;32m--> 612\u001b[0;31m         \u001b[0mapplied\u001b[0m \u001b[0;34m=\u001b[0m \u001b[0;34m(\u001b[0m\u001b[0mfunc\u001b[0m\u001b[0;34m(\u001b[0m\u001b[0mds\u001b[0m\u001b[0;34m,\u001b[0m \u001b[0;34m**\u001b[0m\u001b[0mkwargs\u001b[0m\u001b[0;34m)\u001b[0m \u001b[0;32mfor\u001b[0m \u001b[0mds\u001b[0m \u001b[0;32min\u001b[0m \u001b[0mself\u001b[0m\u001b[0;34m.\u001b[0m\u001b[0m_iter_grouped\u001b[0m\u001b[0;34m(\u001b[0m\u001b[0;34m)\u001b[0m\u001b[0;34m)\u001b[0m\u001b[0;34m\u001b[0m\u001b[0m\n\u001b[0m\u001b[1;32m    613\u001b[0m         \u001b[0;32mreturn\u001b[0m \u001b[0mself\u001b[0m\u001b[0;34m.\u001b[0m\u001b[0m_combine\u001b[0m\u001b[0;34m(\u001b[0m\u001b[0mapplied\u001b[0m\u001b[0;34m)\u001b[0m\u001b[0;34m\u001b[0m\u001b[0m\n\u001b[1;32m    614\u001b[0m \u001b[0;34m\u001b[0m\u001b[0m\n",
      "\u001b[0;32m<string>\u001b[0m in \u001b[0;36m<lambda>\u001b[0;34m(d)\u001b[0m\n",
      "\u001b[0;32m~/miniconda3_20171008/envs/py3_std_3.6/lib/python3.6/site-packages/xarray/core/groupby.py\u001b[0m in \u001b[0;36mapply\u001b[0;34m(self, func, **kwargs)\u001b[0m\n\u001b[1;32m    611\u001b[0m         \u001b[0mkwargs\u001b[0m\u001b[0;34m.\u001b[0m\u001b[0mpop\u001b[0m\u001b[0;34m(\u001b[0m\u001b[0;34m'shortcut'\u001b[0m\u001b[0;34m,\u001b[0m \u001b[0;32mNone\u001b[0m\u001b[0;34m)\u001b[0m  \u001b[0;31m# ignore shortcut if set (for now)\u001b[0m\u001b[0;34m\u001b[0m\u001b[0m\n\u001b[1;32m    612\u001b[0m         \u001b[0mapplied\u001b[0m \u001b[0;34m=\u001b[0m \u001b[0;34m(\u001b[0m\u001b[0mfunc\u001b[0m\u001b[0;34m(\u001b[0m\u001b[0mds\u001b[0m\u001b[0;34m,\u001b[0m \u001b[0;34m**\u001b[0m\u001b[0mkwargs\u001b[0m\u001b[0;34m)\u001b[0m \u001b[0;32mfor\u001b[0m \u001b[0mds\u001b[0m \u001b[0;32min\u001b[0m \u001b[0mself\u001b[0m\u001b[0;34m.\u001b[0m\u001b[0m_iter_grouped\u001b[0m\u001b[0;34m(\u001b[0m\u001b[0;34m)\u001b[0m\u001b[0;34m)\u001b[0m\u001b[0;34m\u001b[0m\u001b[0m\n\u001b[0;32m--> 613\u001b[0;31m         \u001b[0;32mreturn\u001b[0m \u001b[0mself\u001b[0m\u001b[0;34m.\u001b[0m\u001b[0m_combine\u001b[0m\u001b[0;34m(\u001b[0m\u001b[0mapplied\u001b[0m\u001b[0;34m)\u001b[0m\u001b[0;34m\u001b[0m\u001b[0m\n\u001b[0m\u001b[1;32m    614\u001b[0m \u001b[0;34m\u001b[0m\u001b[0m\n\u001b[1;32m    615\u001b[0m     \u001b[0;32mdef\u001b[0m \u001b[0m_combine\u001b[0m\u001b[0;34m(\u001b[0m\u001b[0mself\u001b[0m\u001b[0;34m,\u001b[0m \u001b[0mapplied\u001b[0m\u001b[0;34m)\u001b[0m\u001b[0;34m:\u001b[0m\u001b[0;34m\u001b[0m\u001b[0m\n",
      "\u001b[0;32m~/miniconda3_20171008/envs/py3_std_3.6/lib/python3.6/site-packages/xarray/core/groupby.py\u001b[0m in \u001b[0;36m_combine\u001b[0;34m(self, applied)\u001b[0m\n\u001b[1;32m    618\u001b[0m         \u001b[0mcoord\u001b[0m\u001b[0;34m,\u001b[0m \u001b[0mdim\u001b[0m\u001b[0;34m,\u001b[0m \u001b[0mpositions\u001b[0m \u001b[0;34m=\u001b[0m \u001b[0mself\u001b[0m\u001b[0;34m.\u001b[0m\u001b[0m_infer_concat_args\u001b[0m\u001b[0;34m(\u001b[0m\u001b[0mapplied_example\u001b[0m\u001b[0;34m)\u001b[0m\u001b[0;34m\u001b[0m\u001b[0m\n\u001b[1;32m    619\u001b[0m         \u001b[0mcombined\u001b[0m \u001b[0;34m=\u001b[0m \u001b[0mconcat\u001b[0m\u001b[0;34m(\u001b[0m\u001b[0mapplied\u001b[0m\u001b[0;34m,\u001b[0m \u001b[0mdim\u001b[0m\u001b[0;34m)\u001b[0m\u001b[0;34m\u001b[0m\u001b[0m\n\u001b[0;32m--> 620\u001b[0;31m         \u001b[0mcombined\u001b[0m \u001b[0;34m=\u001b[0m \u001b[0m_maybe_reorder\u001b[0m\u001b[0;34m(\u001b[0m\u001b[0mcombined\u001b[0m\u001b[0;34m,\u001b[0m \u001b[0mdim\u001b[0m\u001b[0;34m,\u001b[0m \u001b[0mpositions\u001b[0m\u001b[0;34m)\u001b[0m\u001b[0;34m\u001b[0m\u001b[0m\n\u001b[0m\u001b[1;32m    621\u001b[0m         \u001b[0;32mif\u001b[0m \u001b[0mcoord\u001b[0m \u001b[0;32mis\u001b[0m \u001b[0;32mnot\u001b[0m \u001b[0;32mNone\u001b[0m\u001b[0;34m:\u001b[0m\u001b[0;34m\u001b[0m\u001b[0m\n\u001b[1;32m    622\u001b[0m             \u001b[0mcombined\u001b[0m\u001b[0;34m[\u001b[0m\u001b[0mcoord\u001b[0m\u001b[0;34m.\u001b[0m\u001b[0mname\u001b[0m\u001b[0;34m]\u001b[0m \u001b[0;34m=\u001b[0m \u001b[0mcoord\u001b[0m\u001b[0;34m\u001b[0m\u001b[0m\n",
      "\u001b[0;32m~/miniconda3_20171008/envs/py3_std_3.6/lib/python3.6/site-packages/xarray/core/groupby.py\u001b[0m in \u001b[0;36m_maybe_reorder\u001b[0;34m(xarray_obj, dim, positions)\u001b[0m\n\u001b[1;32m    432\u001b[0m \u001b[0;34m\u001b[0m\u001b[0m\n\u001b[1;32m    433\u001b[0m \u001b[0;32mdef\u001b[0m \u001b[0m_maybe_reorder\u001b[0m\u001b[0;34m(\u001b[0m\u001b[0mxarray_obj\u001b[0m\u001b[0;34m,\u001b[0m \u001b[0mdim\u001b[0m\u001b[0;34m,\u001b[0m \u001b[0mpositions\u001b[0m\u001b[0;34m)\u001b[0m\u001b[0;34m:\u001b[0m\u001b[0;34m\u001b[0m\u001b[0m\n\u001b[0;32m--> 434\u001b[0;31m     \u001b[0morder\u001b[0m \u001b[0;34m=\u001b[0m \u001b[0m_inverse_permutation_indices\u001b[0m\u001b[0;34m(\u001b[0m\u001b[0mpositions\u001b[0m\u001b[0;34m)\u001b[0m\u001b[0;34m\u001b[0m\u001b[0m\n\u001b[0m\u001b[1;32m    435\u001b[0m \u001b[0;34m\u001b[0m\u001b[0m\n\u001b[1;32m    436\u001b[0m     \u001b[0;32mif\u001b[0m \u001b[0morder\u001b[0m \u001b[0;32mis\u001b[0m \u001b[0;32mNone\u001b[0m\u001b[0;34m:\u001b[0m\u001b[0;34m\u001b[0m\u001b[0m\n",
      "\u001b[0;32m~/miniconda3_20171008/envs/py3_std_3.6/lib/python3.6/site-packages/xarray/core/groupby.py\u001b[0m in \u001b[0;36m_inverse_permutation_indices\u001b[0;34m(positions)\u001b[0m\n\u001b[1;32m    113\u001b[0m         \u001b[0mpositions\u001b[0m \u001b[0;34m=\u001b[0m \u001b[0;34m[\u001b[0m\u001b[0mnp\u001b[0m\u001b[0;34m.\u001b[0m\u001b[0marange\u001b[0m\u001b[0;34m(\u001b[0m\u001b[0msl\u001b[0m\u001b[0;34m.\u001b[0m\u001b[0mstart\u001b[0m\u001b[0;34m,\u001b[0m \u001b[0msl\u001b[0m\u001b[0;34m.\u001b[0m\u001b[0mstop\u001b[0m\u001b[0;34m,\u001b[0m \u001b[0msl\u001b[0m\u001b[0;34m.\u001b[0m\u001b[0mstep\u001b[0m\u001b[0;34m)\u001b[0m \u001b[0;32mfor\u001b[0m \u001b[0msl\u001b[0m \u001b[0;32min\u001b[0m \u001b[0mpositions\u001b[0m\u001b[0;34m]\u001b[0m\u001b[0;34m\u001b[0m\u001b[0m\n\u001b[1;32m    114\u001b[0m \u001b[0;34m\u001b[0m\u001b[0m\n\u001b[0;32m--> 115\u001b[0;31m     \u001b[0mindices\u001b[0m \u001b[0;34m=\u001b[0m \u001b[0mnputils\u001b[0m\u001b[0;34m.\u001b[0m\u001b[0minverse_permutation\u001b[0m\u001b[0;34m(\u001b[0m\u001b[0mnp\u001b[0m\u001b[0;34m.\u001b[0m\u001b[0mconcatenate\u001b[0m\u001b[0;34m(\u001b[0m\u001b[0mpositions\u001b[0m\u001b[0;34m)\u001b[0m\u001b[0;34m)\u001b[0m\u001b[0;34m\u001b[0m\u001b[0m\n\u001b[0m\u001b[1;32m    116\u001b[0m     \u001b[0;32mreturn\u001b[0m \u001b[0mindices\u001b[0m\u001b[0;34m\u001b[0m\u001b[0m\n\u001b[1;32m    117\u001b[0m \u001b[0;34m\u001b[0m\u001b[0m\n",
      "\u001b[0;32m~/miniconda3_20171008/envs/py3_std_3.6/lib/python3.6/site-packages/xarray/core/nputils.py\u001b[0m in \u001b[0;36minverse_permutation\u001b[0;34m(indices)\u001b[0m\n\u001b[1;32m     52\u001b[0m     \u001b[0;31m# use intp instead of int64 because of windows :(\u001b[0m\u001b[0;34m\u001b[0m\u001b[0;34m\u001b[0m\u001b[0m\n\u001b[1;32m     53\u001b[0m     \u001b[0minverse_permutation\u001b[0m \u001b[0;34m=\u001b[0m \u001b[0mnp\u001b[0m\u001b[0;34m.\u001b[0m\u001b[0mempty\u001b[0m\u001b[0;34m(\u001b[0m\u001b[0mlen\u001b[0m\u001b[0;34m(\u001b[0m\u001b[0mindices\u001b[0m\u001b[0;34m)\u001b[0m\u001b[0;34m,\u001b[0m \u001b[0mdtype\u001b[0m\u001b[0;34m=\u001b[0m\u001b[0mnp\u001b[0m\u001b[0;34m.\u001b[0m\u001b[0mintp\u001b[0m\u001b[0;34m)\u001b[0m\u001b[0;34m\u001b[0m\u001b[0m\n\u001b[0;32m---> 54\u001b[0;31m     \u001b[0minverse_permutation\u001b[0m\u001b[0;34m[\u001b[0m\u001b[0mindices\u001b[0m\u001b[0;34m]\u001b[0m \u001b[0;34m=\u001b[0m \u001b[0mnp\u001b[0m\u001b[0;34m.\u001b[0m\u001b[0marange\u001b[0m\u001b[0;34m(\u001b[0m\u001b[0mlen\u001b[0m\u001b[0;34m(\u001b[0m\u001b[0mindices\u001b[0m\u001b[0;34m)\u001b[0m\u001b[0;34m,\u001b[0m \u001b[0mdtype\u001b[0m\u001b[0;34m=\u001b[0m\u001b[0mnp\u001b[0m\u001b[0;34m.\u001b[0m\u001b[0mintp\u001b[0m\u001b[0;34m)\u001b[0m\u001b[0;34m\u001b[0m\u001b[0m\n\u001b[0m\u001b[1;32m     55\u001b[0m     \u001b[0;32mreturn\u001b[0m \u001b[0minverse_permutation\u001b[0m\u001b[0;34m\u001b[0m\u001b[0m\n\u001b[1;32m     56\u001b[0m \u001b[0;34m\u001b[0m\u001b[0m\n",
      "\u001b[0;31mIndexError\u001b[0m: index 7794906 is out of bounds for axis 1 with size 7638063"
     ]
    }
   ],
   "source": [
    "%%memit\n",
    "temp_t_sigma2_y = ds.groupby_bins(\"sigma2\", np.linspace(25, 40, 31)).apply(\n",
    "        lambda x: x\n",
    "    ).votemper\n",
    "temp_t_sigma2_y"
   ]
  }
 ],
 "metadata": {
  "kernelspec": {
   "display_name": "Python 3",
   "language": "python",
   "name": "python3"
  },
  "language_info": {
   "codemirror_mode": {
    "name": "ipython",
    "version": 3
   },
   "file_extension": ".py",
   "mimetype": "text/x-python",
   "name": "python",
   "nbconvert_exporter": "python",
   "pygments_lexer": "ipython3",
   "version": "3.6.4"
  }
 },
 "nbformat": 4,
 "nbformat_minor": 2
}
