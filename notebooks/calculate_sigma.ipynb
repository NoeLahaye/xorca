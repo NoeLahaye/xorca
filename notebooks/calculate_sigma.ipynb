{
 "cells": [
  {
   "cell_type": "markdown",
   "metadata": {},
   "source": [
    "# Calculate the barotropic stream function on the ORCA grid"
   ]
  },
  {
   "cell_type": "markdown",
   "metadata": {},
   "source": [
    "## Preamble: Import modules, turn off warnings, etc."
   ]
  },
  {
   "cell_type": "code",
   "execution_count": 1,
   "metadata": {},
   "outputs": [],
   "source": [
    "import warnings\n",
    "warnings.filterwarnings(\"ignore\")"
   ]
  },
  {
   "cell_type": "code",
   "execution_count": 2,
   "metadata": {},
   "outputs": [],
   "source": [
    "%matplotlib inline\n",
    "%load_ext memory_profiler\n",
    "from dask.distributed import Client, wait\n",
    "import gsw\n",
    "import inspect\n",
    "import numpy as np\n",
    "from pathlib import Path\n",
    "import matplotlib.pyplot as plt\n",
    "import xarray as xr"
   ]
  },
  {
   "cell_type": "code",
   "execution_count": 3,
   "metadata": {},
   "outputs": [
    {
     "name": "stdout",
     "output_type": "stream",
     "text": [
      "../scheduler.log\n"
     ]
    }
   ],
   "source": [
    "!ls ../scheduler.log"
   ]
  },
  {
   "cell_type": "code",
   "execution_count": 4,
   "metadata": {},
   "outputs": [
    {
     "data": {
      "text/html": [
       "<table style=\"border: 2px solid white;\">\n",
       "<tr>\n",
       "<td style=\"vertical-align: top; border: 0px solid white\">\n",
       "<h3>Client</h3>\n",
       "<ul>\n",
       "  <li><b>Scheduler: </b>tcp://192.168.0.2:8786\n",
       "  <li><b>Dashboard: </b><a href='http://192.168.0.2:8787/status' target='_blank'>http://192.168.0.2:8787/status</a>\n",
       "</ul>\n",
       "</td>\n",
       "<td style=\"vertical-align: top; border: 0px solid white\">\n",
       "<h3>Cluster</h3>\n",
       "<ul>\n",
       "  <li><b>Workers: </b>3</li>\n",
       "  <li><b>Cores: </b>3</li>\n",
       "  <li><b>Memory: </b>12.52 GB</li>\n",
       "</ul>\n",
       "</td>\n",
       "</tr>\n",
       "</table>"
      ],
      "text/plain": [
       "<Client: scheduler='tcp://192.168.0.2:8786' processes=3 cores=3>"
      ]
     },
     "metadata": {},
     "output_type": "display_data"
    }
   ],
   "source": [
    "try:\n",
    "    client = Client(scheduler_file=\"../scheduler.json\")\n",
    "    client.restart()\n",
    "    display(client)\n",
    "except Exception as e:\n",
    "    print(\"No scheduler.  Will continue in single-process mode.\")"
   ]
  },
  {
   "cell_type": "markdown",
   "metadata": {},
   "source": [
    "## Load the whole model run into a single grid-aware data set"
   ]
  },
  {
   "cell_type": "code",
   "execution_count": 5,
   "metadata": {},
   "outputs": [],
   "source": [
    "data_path = Path(\"../example-data/ORCA05.L46-KKG36F25H/\")"
   ]
  },
  {
   "cell_type": "code",
   "execution_count": 6,
   "metadata": {},
   "outputs": [],
   "source": [
    "data_files = (\n",
    "    sorted(data_path.glob(\"ORCA05.L46-KKG36F25H_1m_*_grid_?.nc\")) +\n",
    "    [data_path / \"mesh_mask.nc\",\n",
    "     data_path / \"new_maskglo.nc\"]\n",
    ")"
   ]
  },
  {
   "cell_type": "code",
   "execution_count": 7,
   "metadata": {},
   "outputs": [
    {
     "name": "stdout",
     "output_type": "stream",
     "text": [
      "../example-data/ORCA05.L46-KKG36F25H/ORCA05.L46-KKG36F25H_1m_20080101_20081231_grid_T.nc\n",
      "../example-data/ORCA05.L46-KKG36F25H/ORCA05.L46-KKG36F25H_1m_20080101_20081231_grid_U.nc\n",
      "../example-data/ORCA05.L46-KKG36F25H/ORCA05.L46-KKG36F25H_1m_20080101_20081231_grid_V.nc\n",
      "../example-data/ORCA05.L46-KKG36F25H/ORCA05.L46-KKG36F25H_1m_20090101_20091231_grid_T.nc\n",
      "../example-data/ORCA05.L46-KKG36F25H/ORCA05.L46-KKG36F25H_1m_20090101_20091231_grid_U.nc\n",
      "../example-data/ORCA05.L46-KKG36F25H/ORCA05.L46-KKG36F25H_1m_20090101_20091231_grid_V.nc\n",
      "../example-data/ORCA05.L46-KKG36F25H/mesh_mask.nc\n",
      "../example-data/ORCA05.L46-KKG36F25H/new_maskglo.nc\n"
     ]
    }
   ],
   "source": [
    "list(map(print, data_files));"
   ]
  },
  {
   "cell_type": "code",
   "execution_count": 8,
   "metadata": {},
   "outputs": [
    {
     "data": {
      "text/plain": [
       "<xarray.Dataset>\n",
       "Dimensions:   (t: 24, x_c: 720, x_r: 720, y_c: 509, y_r: 509, z_c: 46, z_l: 46)\n",
       "Coordinates:\n",
       "  * x_r       (x_r) float64 1.5 2.5 3.5 4.5 5.5 6.5 7.5 8.5 9.5 10.5 11.5 ...\n",
       "  * z_l       (z_l) float64 0.5 1.5 2.5 3.5 4.5 5.5 6.5 7.5 8.5 9.5 10.5 ...\n",
       "  * x_c       (x_c) int64 1 2 3 4 5 6 7 8 9 10 11 12 13 14 15 16 17 18 19 20 ...\n",
       "  * z_c       (z_c) int64 1 2 3 4 5 6 7 8 9 10 11 12 13 14 15 16 17 18 19 20 ...\n",
       "  * y_r       (y_r) float64 1.5 2.5 3.5 4.5 5.5 6.5 7.5 8.5 9.5 10.5 11.5 ...\n",
       "  * y_c       (y_c) int64 1 2 3 4 5 6 7 8 9 10 11 12 13 14 15 16 17 18 19 20 ...\n",
       "    llon_rr   (y_r, x_r) float32 dask.array<shape=(509, 720), chunksize=(509, 720)>\n",
       "    depth_c   (z_c) float64 dask.array<shape=(46,), chunksize=(23,)>\n",
       "    llat_cc   (y_c, x_c) float32 dask.array<shape=(509, 720), chunksize=(509, 720)>\n",
       "    llon_cc   (y_c, x_c) float32 dask.array<shape=(509, 720), chunksize=(509, 720)>\n",
       "    llat_rc   (y_r, x_c) float32 dask.array<shape=(509, 720), chunksize=(509, 720)>\n",
       "    llon_cr   (y_c, x_r) float32 dask.array<shape=(509, 720), chunksize=(509, 720)>\n",
       "    llat_rr   (y_r, x_r) float32 dask.array<shape=(509, 720), chunksize=(509, 720)>\n",
       "    depth_l   (z_l) float64 dask.array<shape=(46,), chunksize=(23,)>\n",
       "    llat_cr   (y_c, x_r) float32 dask.array<shape=(509, 720), chunksize=(509, 720)>\n",
       "    llon_rc   (y_r, x_c) float32 dask.array<shape=(509, 720), chunksize=(509, 720)>\n",
       "  * t         (t) datetime64[ns] 2008-01-16T12:00:00 2008-02-15 ...\n",
       "Data variables:\n",
       "    soshfldo  (t, y_c, x_c) float32 dask.array<shape=(24, 509, 720), chunksize=(1, 509, 720)>\n",
       "    sohefldo  (t, y_c, x_c) float32 dask.array<shape=(24, 509, 720), chunksize=(1, 509, 720)>\n",
       "    somxl010  (t, y_c, x_c) float32 dask.array<shape=(24, 509, 720), chunksize=(1, 509, 720)>\n",
       "    sowindsp  (t, y_c, x_c) float32 dask.array<shape=(24, 509, 720), chunksize=(1, 509, 720)>\n",
       "    vosaline  (t, z_c, y_c, x_c) float32 dask.array<shape=(24, 46, 509, 720), chunksize=(1, 23, 509, 720)>\n",
       "    sowaflup  (t, y_c, x_c) float32 dask.array<shape=(24, 509, 720), chunksize=(1, 509, 720)>\n",
       "    somixhgt  (t, y_c, x_c) float32 dask.array<shape=(24, 509, 720), chunksize=(1, 509, 720)>\n",
       "    sosaline  (t, y_c, x_c) float32 dask.array<shape=(24, 509, 720), chunksize=(1, 509, 720)>\n",
       "    sossheig  (t, y_c, x_c) float32 dask.array<shape=(24, 509, 720), chunksize=(1, 509, 720)>\n",
       "    sowafldp  (t, y_c, x_c) float32 dask.array<shape=(24, 509, 720), chunksize=(1, 509, 720)>\n",
       "    sobowlin  (t, y_c, x_c) float32 dask.array<shape=(24, 509, 720), chunksize=(1, 509, 720)>\n",
       "    sohefldp  (t, y_c, x_c) float32 dask.array<shape=(24, 509, 720), chunksize=(1, 509, 720)>\n",
       "    votemper  (t, z_c, y_c, x_c) float32 dask.array<shape=(24, 46, 509, 720), chunksize=(1, 23, 509, 720)>\n",
       "    sosstsst  (t, y_c, x_c) float32 dask.array<shape=(24, 509, 720), chunksize=(1, 509, 720)>\n",
       "    sometauy  (t, y_r, x_c) float32 dask.array<shape=(24, 509, 720), chunksize=(1, 509, 720)>\n",
       "    vomecrty  (t, z_c, y_r, x_c) float32 dask.array<shape=(24, 46, 509, 720), chunksize=(1, 23, 509, 720)>\n",
       "    vomeeivv  (t, z_c, y_r, x_c) float32 dask.array<shape=(24, 46, 509, 720), chunksize=(1, 23, 509, 720)>\n",
       "    sozotaux  (t, y_c, x_r) float32 dask.array<shape=(24, 509, 720), chunksize=(1, 509, 720)>\n",
       "    vozocrtx  (t, z_c, y_c, x_r) float32 dask.array<shape=(24, 46, 509, 720), chunksize=(1, 23, 509, 720)>\n",
       "    vozoeivu  (t, z_c, y_c, x_r) float32 dask.array<shape=(24, 46, 509, 720), chunksize=(1, 23, 509, 720)>\n",
       "    e2u       (y_c, x_r) float64 dask.array<shape=(509, 720), chunksize=(509, 720)>\n",
       "    e1t       (y_c, x_c) float64 dask.array<shape=(509, 720), chunksize=(509, 720)>\n",
       "    fmask     (z_c, y_r, x_r) int8 dask.array<shape=(46, 509, 720), chunksize=(23, 509, 720)>\n",
       "    tmask     (z_c, y_c, x_c) int8 dask.array<shape=(46, 509, 720), chunksize=(23, 509, 720)>\n",
       "    e2t       (y_c, x_c) float64 dask.array<shape=(509, 720), chunksize=(509, 720)>\n",
       "    vmask     (z_c, y_r, x_c) int8 dask.array<shape=(46, 509, 720), chunksize=(23, 509, 720)>\n",
       "    e3v       (z_c, y_r, x_c) float64 dask.array<shape=(46, 509, 720), chunksize=(23, 509, 720)>\n",
       "    umask     (z_c, y_c, x_r) int8 dask.array<shape=(46, 509, 720), chunksize=(23, 509, 720)>\n",
       "    e1u       (y_c, x_r) float64 dask.array<shape=(509, 720), chunksize=(509, 720)>\n",
       "    e3t       (z_c, y_c, x_c) float64 dask.array<shape=(46, 509, 720), chunksize=(23, 509, 720)>\n",
       "    e2v       (y_r, x_c) float64 dask.array<shape=(509, 720), chunksize=(509, 720)>\n",
       "    e1v       (y_r, x_c) float64 dask.array<shape=(509, 720), chunksize=(509, 720)>\n",
       "    e3u       (z_c, y_c, x_r) float64 dask.array<shape=(46, 509, 720), chunksize=(23, 509, 720)>\n",
       "    fmaskatl  (y_r, x_r) float32 dask.array<shape=(509, 720), chunksize=(509, 720)>\n",
       "    tmaskpac  (y_c, x_c) float32 dask.array<shape=(509, 720), chunksize=(509, 720)>\n",
       "    fmaskind  (y_r, x_r) float32 dask.array<shape=(509, 720), chunksize=(509, 720)>\n",
       "    umaskpac  (y_c, x_r) float32 dask.array<shape=(509, 720), chunksize=(509, 720)>\n",
       "    umaskind  (y_c, x_r) float32 dask.array<shape=(509, 720), chunksize=(509, 720)>\n",
       "    vmaskpac  (y_r, x_c) float32 dask.array<shape=(509, 720), chunksize=(509, 720)>\n",
       "    tmaskatl  (y_c, x_c) float32 dask.array<shape=(509, 720), chunksize=(509, 720)>\n",
       "    umaskatl  (y_c, x_r) float32 dask.array<shape=(509, 720), chunksize=(509, 720)>\n",
       "    tmaskind  (y_c, x_c) float32 dask.array<shape=(509, 720), chunksize=(509, 720)>\n",
       "    fmaskpac  (y_r, x_r) float32 dask.array<shape=(509, 720), chunksize=(509, 720)>\n",
       "    vmaskind  (y_r, x_c) float32 dask.array<shape=(509, 720), chunksize=(509, 720)>\n",
       "    vmaskatl  (y_r, x_c) float32 dask.array<shape=(509, 720), chunksize=(509, 720)>"
      ]
     },
     "execution_count": 8,
     "metadata": {},
     "output_type": "execute_result"
    }
   ],
   "source": [
    "from xorca.lib import preprocess_orca\n",
    "\n",
    "ds = xr.open_mfdataset(data_files,\n",
    "                       preprocess=(lambda ds:\n",
    "                                   preprocess_orca(data_path / \"mesh_mask.nc\", ds)))\n",
    "ds = ds.chunk({\"t\": 1, \"z_c\": 23, \"z_l\": 23})\n",
    "ds"
   ]
  },
  {
   "cell_type": "markdown",
   "metadata": {},
   "source": [
    "## Calculate Sigma"
   ]
  },
  {
   "cell_type": "code",
   "execution_count": 9,
   "metadata": {},
   "outputs": [
    {
     "name": "stdout",
     "output_type": "stream",
     "text": [
      "peak memory: 246.55 MiB, increment: 0.19 MiB\n"
     ]
    }
   ],
   "source": [
    "%%memit\n",
    "SA = ds.vosaline\n",
    "SA = SA.where(ds.tmask != 0)"
   ]
  },
  {
   "cell_type": "code",
   "execution_count": 10,
   "metadata": {},
   "outputs": [
    {
     "name": "stdout",
     "output_type": "stream",
     "text": [
      "peak memory: 246.62 MiB, increment: 0.03 MiB\n"
     ]
    }
   ],
   "source": [
    "%%memit\n",
    "CT = ds.votemper\n",
    "CT = CT.where(ds.tmask != 0)"
   ]
  },
  {
   "cell_type": "code",
   "execution_count": 11,
   "metadata": {},
   "outputs": [
    {
     "name": "stdout",
     "output_type": "stream",
     "text": [
      "peak memory: 246.63 MiB, increment: 0.00 MiB\n"
     ]
    }
   ],
   "source": [
    "%%memit\n",
    "sigma0 =  xr.apply_ufunc(gsw.sigma0, SA, CT, dask='parallelized', output_dtypes=[float, ])"
   ]
  },
  {
   "cell_type": "code",
   "execution_count": 12,
   "metadata": {},
   "outputs": [
    {
     "data": {
      "text/plain": [
       "<xarray.DataArray (t: 24, z_c: 46, y_c: 509, x_c: 720)>\n",
       "dask.array<shape=(24, 46, 509, 720), dtype=float64, chunksize=(1, 23, 509, 720)>\n",
       "Coordinates:\n",
       "  * x_c      (x_c) int64 1 2 3 4 5 6 7 8 9 10 11 12 13 14 15 16 17 18 19 20 ...\n",
       "  * z_c      (z_c) int64 1 2 3 4 5 6 7 8 9 10 11 12 13 14 15 16 17 18 19 20 ...\n",
       "  * y_c      (y_c) int64 1 2 3 4 5 6 7 8 9 10 11 12 13 14 15 16 17 18 19 20 ...\n",
       "    depth_c  (z_c) float64 dask.array<shape=(46,), chunksize=(23,)>\n",
       "    llat_cc  (y_c, x_c) float32 dask.array<shape=(509, 720), chunksize=(509, 720)>\n",
       "    llon_cc  (y_c, x_c) float32 dask.array<shape=(509, 720), chunksize=(509, 720)>\n",
       "  * t        (t) datetime64[ns] 2008-01-16T12:00:00 2008-02-15 ..."
      ]
     },
     "execution_count": 12,
     "metadata": {},
     "output_type": "execute_result"
    }
   ],
   "source": [
    "sigma0"
   ]
  },
  {
   "cell_type": "code",
   "execution_count": 13,
   "metadata": {},
   "outputs": [],
   "source": [
    "# %%memit\n",
    "# sigma0.isel(t=0, x_c=100, y_c=100).compute().plot();"
   ]
  },
  {
   "cell_type": "code",
   "execution_count": 14,
   "metadata": {},
   "outputs": [],
   "source": [
    "ds[\"sigma0\"] = sigma0"
   ]
  },
  {
   "cell_type": "code",
   "execution_count": 15,
   "metadata": {},
   "outputs": [
    {
     "data": {
      "text/plain": [
       "<xarray.Dataset>\n",
       "Dimensions:   (y_c: 509, y_r: 509, z_c: 46, z_l: 46)\n",
       "Coordinates:\n",
       "    x_r       float64 101.5\n",
       "  * z_l       (z_l) float64 0.5 1.5 2.5 3.5 4.5 5.5 6.5 7.5 8.5 9.5 10.5 ...\n",
       "    x_c       int64 101\n",
       "  * z_c       (z_c) int64 1 2 3 4 5 6 7 8 9 10 11 12 13 14 15 16 17 18 19 20 ...\n",
       "  * y_r       (y_r) float64 1.5 2.5 3.5 4.5 5.5 6.5 7.5 8.5 9.5 10.5 11.5 ...\n",
       "  * y_c       (y_c) int64 1 2 3 4 5 6 7 8 9 10 11 12 13 14 15 16 17 18 19 20 ...\n",
       "    llon_rr   (y_r) float32 dask.array<shape=(509,), chunksize=(509,)>\n",
       "    depth_c   (z_c) float64 dask.array<shape=(46,), chunksize=(23,)>\n",
       "    llat_cc   (y_c) float32 dask.array<shape=(509,), chunksize=(509,)>\n",
       "    llon_cc   (y_c) float32 dask.array<shape=(509,), chunksize=(509,)>\n",
       "    llat_rc   (y_r) float32 dask.array<shape=(509,), chunksize=(509,)>\n",
       "    llon_cr   (y_c) float32 dask.array<shape=(509,), chunksize=(509,)>\n",
       "    llat_rr   (y_r) float32 dask.array<shape=(509,), chunksize=(509,)>\n",
       "    depth_l   (z_l) float64 dask.array<shape=(46,), chunksize=(23,)>\n",
       "    llat_cr   (y_c) float32 dask.array<shape=(509,), chunksize=(509,)>\n",
       "    llon_rc   (y_r) float32 dask.array<shape=(509,), chunksize=(509,)>\n",
       "    t         datetime64[ns] 2008-01-16T12:00:00\n",
       "Data variables:\n",
       "    soshfldo  (y_c) float32 dask.array<shape=(509,), chunksize=(509,)>\n",
       "    sohefldo  (y_c) float32 dask.array<shape=(509,), chunksize=(509,)>\n",
       "    somxl010  (y_c) float32 dask.array<shape=(509,), chunksize=(509,)>\n",
       "    sowindsp  (y_c) float32 dask.array<shape=(509,), chunksize=(509,)>\n",
       "    vosaline  (z_c, y_c) float32 dask.array<shape=(46, 509), chunksize=(23, 509)>\n",
       "    sowaflup  (y_c) float32 dask.array<shape=(509,), chunksize=(509,)>\n",
       "    somixhgt  (y_c) float32 dask.array<shape=(509,), chunksize=(509,)>\n",
       "    sosaline  (y_c) float32 dask.array<shape=(509,), chunksize=(509,)>\n",
       "    sossheig  (y_c) float32 dask.array<shape=(509,), chunksize=(509,)>\n",
       "    sowafldp  (y_c) float32 dask.array<shape=(509,), chunksize=(509,)>\n",
       "    sobowlin  (y_c) float32 dask.array<shape=(509,), chunksize=(509,)>\n",
       "    sohefldp  (y_c) float32 dask.array<shape=(509,), chunksize=(509,)>\n",
       "    votemper  (z_c, y_c) float32 dask.array<shape=(46, 509), chunksize=(23, 509)>\n",
       "    sosstsst  (y_c) float32 dask.array<shape=(509,), chunksize=(509,)>\n",
       "    sometauy  (y_r) float32 dask.array<shape=(509,), chunksize=(509,)>\n",
       "    vomecrty  (z_c, y_r) float32 dask.array<shape=(46, 509), chunksize=(23, 509)>\n",
       "    vomeeivv  (z_c, y_r) float32 dask.array<shape=(46, 509), chunksize=(23, 509)>\n",
       "    sozotaux  (y_c) float32 dask.array<shape=(509,), chunksize=(509,)>\n",
       "    vozocrtx  (z_c, y_c) float32 dask.array<shape=(46, 509), chunksize=(23, 509)>\n",
       "    vozoeivu  (z_c, y_c) float32 dask.array<shape=(46, 509), chunksize=(23, 509)>\n",
       "    e2u       (y_c) float64 dask.array<shape=(509,), chunksize=(509,)>\n",
       "    e1t       (y_c) float64 dask.array<shape=(509,), chunksize=(509,)>\n",
       "    fmask     (z_c, y_r) int8 dask.array<shape=(46, 509), chunksize=(23, 509)>\n",
       "    tmask     (z_c, y_c) int8 dask.array<shape=(46, 509), chunksize=(23, 509)>\n",
       "    e2t       (y_c) float64 dask.array<shape=(509,), chunksize=(509,)>\n",
       "    vmask     (z_c, y_r) int8 dask.array<shape=(46, 509), chunksize=(23, 509)>\n",
       "    e3v       (z_c, y_r) float64 dask.array<shape=(46, 509), chunksize=(23, 509)>\n",
       "    umask     (z_c, y_c) int8 dask.array<shape=(46, 509), chunksize=(23, 509)>\n",
       "    e1u       (y_c) float64 dask.array<shape=(509,), chunksize=(509,)>\n",
       "    e3t       (z_c, y_c) float64 dask.array<shape=(46, 509), chunksize=(23, 509)>\n",
       "    e2v       (y_r) float64 dask.array<shape=(509,), chunksize=(509,)>\n",
       "    e1v       (y_r) float64 dask.array<shape=(509,), chunksize=(509,)>\n",
       "    e3u       (z_c, y_c) float64 dask.array<shape=(46, 509), chunksize=(23, 509)>\n",
       "    fmaskatl  (y_r) float32 dask.array<shape=(509,), chunksize=(509,)>\n",
       "    tmaskpac  (y_c) float32 dask.array<shape=(509,), chunksize=(509,)>\n",
       "    fmaskind  (y_r) float32 dask.array<shape=(509,), chunksize=(509,)>\n",
       "    umaskpac  (y_c) float32 dask.array<shape=(509,), chunksize=(509,)>\n",
       "    umaskind  (y_c) float32 dask.array<shape=(509,), chunksize=(509,)>\n",
       "    vmaskpac  (y_r) float32 dask.array<shape=(509,), chunksize=(509,)>\n",
       "    tmaskatl  (y_c) float32 dask.array<shape=(509,), chunksize=(509,)>\n",
       "    umaskatl  (y_c) float32 dask.array<shape=(509,), chunksize=(509,)>\n",
       "    tmaskind  (y_c) float32 dask.array<shape=(509,), chunksize=(509,)>\n",
       "    fmaskpac  (y_r) float32 dask.array<shape=(509,), chunksize=(509,)>\n",
       "    vmaskind  (y_r) float32 dask.array<shape=(509,), chunksize=(509,)>\n",
       "    vmaskatl  (y_r) float32 dask.array<shape=(509,), chunksize=(509,)>\n",
       "    sigma0    (z_c, y_c) float64 dask.array<shape=(46, 509), chunksize=(23, 509)>"
      ]
     },
     "execution_count": 15,
     "metadata": {},
     "output_type": "execute_result"
    }
   ],
   "source": [
    "ds = ds.isel(t=0, x_c=100, x_r=100)\n",
    "ds"
   ]
  },
  {
   "cell_type": "code",
   "execution_count": 16,
   "metadata": {},
   "outputs": [],
   "source": [
    "T = ds.votemper\n",
    "s0 = ds.sigma0"
   ]
  },
  {
   "cell_type": "code",
   "execution_count": 17,
   "metadata": {},
   "outputs": [
    {
     "data": {
      "text/plain": [
       "<xarray.DataArray 'votemper' (z_c: 46, y_c: 509)>\n",
       "dask.array<shape=(46, 509), dtype=float32, chunksize=(23, 509)>\n",
       "Coordinates:\n",
       "    x_r      float64 101.5\n",
       "    x_c      int64 101\n",
       "  * z_c      (z_c) int64 1 2 3 4 5 6 7 8 9 10 11 12 13 14 15 16 17 18 19 20 ...\n",
       "  * y_c      (y_c) int64 1 2 3 4 5 6 7 8 9 10 11 12 13 14 15 16 17 18 19 20 ...\n",
       "    depth_c  (z_c) float64 dask.array<shape=(46,), chunksize=(23,)>\n",
       "    llat_cc  (y_c) float32 dask.array<shape=(509,), chunksize=(509,)>\n",
       "    llon_cc  (y_c) float32 dask.array<shape=(509,), chunksize=(509,)>\n",
       "    llon_cr  (y_c) float32 dask.array<shape=(509,), chunksize=(509,)>\n",
       "    llat_cr  (y_c) float32 dask.array<shape=(509,), chunksize=(509,)>\n",
       "    t        datetime64[ns] 2008-01-16T12:00:00"
      ]
     },
     "metadata": {},
     "output_type": "display_data"
    },
    {
     "data": {
      "text/plain": [
       "<xarray.DataArray 'sigma0' (z_c: 46, y_c: 509)>\n",
       "dask.array<shape=(46, 509), dtype=float64, chunksize=(23, 509)>\n",
       "Coordinates:\n",
       "    x_r      float64 101.5\n",
       "    x_c      int64 101\n",
       "  * z_c      (z_c) int64 1 2 3 4 5 6 7 8 9 10 11 12 13 14 15 16 17 18 19 20 ...\n",
       "  * y_c      (y_c) int64 1 2 3 4 5 6 7 8 9 10 11 12 13 14 15 16 17 18 19 20 ...\n",
       "    depth_c  (z_c) float64 dask.array<shape=(46,), chunksize=(23,)>\n",
       "    llat_cc  (y_c) float32 dask.array<shape=(509,), chunksize=(509,)>\n",
       "    llon_cc  (y_c) float32 dask.array<shape=(509,), chunksize=(509,)>\n",
       "    llon_cr  (y_c) float32 dask.array<shape=(509,), chunksize=(509,)>\n",
       "    llat_cr  (y_c) float32 dask.array<shape=(509,), chunksize=(509,)>\n",
       "    t        datetime64[ns] 2008-01-16T12:00:00"
      ]
     },
     "metadata": {},
     "output_type": "display_data"
    }
   ],
   "source": [
    "display(T)\n",
    "display(s0)"
   ]
  },
  {
   "cell_type": "code",
   "execution_count": 18,
   "metadata": {},
   "outputs": [
    {
     "data": {
      "image/png": "[encoded data removed]",
      "text/plain": [
       "<matplotlib.figure.Figure at 0x7f9644156048>"
      ]
     },
     "metadata": {},
     "output_type": "display_data"
    }
   ],
   "source": [
    "s0.plot.hist();"
   ]
  },
  {
   "cell_type": "code",
   "execution_count": 19,
   "metadata": {},
   "outputs": [],
   "source": [
    "s0 = s0.persist()\n",
    "T = T.persist()\n",
    "wait(s0);\n",
    "wait(T);"
   ]
  },
  {
   "cell_type": "code",
   "execution_count": 20,
   "metadata": {},
   "outputs": [],
   "source": [
    "Tg = T.groupby_bins(s0, np.arange(18, 30, 0.5))"
   ]
  },
  {
   "cell_type": "code",
   "execution_count": 21,
   "metadata": {},
   "outputs": [],
   "source": [
    "Tmax = xr.concat((arr.unstack(\"stacked_z_c_y_c\") for val, arr in Tg),\n",
    "                 dim=\"s0\")\n",
    "Tmax.coords[\"s0\"] = ([\"s0\", ],\n",
    "                     np.asarray([val.mid for val, arr in Tg]))"
   ]
  },
  {
   "cell_type": "code",
   "execution_count": 32,
   "metadata": {},
   "outputs": [
    {
     "data": {
      "image/png": "[encoded data removed]",
      "text/plain": [
       "<matplotlib.figure.Figure at 0x7f963978ebe0>"
      ]
     },
     "metadata": {},
     "output_type": "display_data"
    }
   ],
   "source": [
    "Tmax.coords[\"depth_c\"] = ds.coords[\"depth_c\"]\n",
    "Tmax.sortby(\"s0\").max(\"y_c\").plot.pcolormesh(\"depth_c\", \"s0\", size=9);"
   ]
  }
 ],
 "metadata": {
  "kernelspec": {
   "display_name": "Python 3",
   "language": "python",
   "name": "python3"
  },
  "language_info": {
   "codemirror_mode": {
    "name": "ipython",
    "version": 3
   },
   "file_extension": ".py",
   "mimetype": "text/x-python",
   "name": "python",
   "nbconvert_exporter": "python",
   "pygments_lexer": "ipython3",
   "version": "3.5.4"
  }
 },
 "nbformat": 4,
 "nbformat_minor": 2
}
